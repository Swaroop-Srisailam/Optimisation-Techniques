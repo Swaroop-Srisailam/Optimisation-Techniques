{
 "cells": [
  {
   "cell_type": "markdown",
   "id": "821fc60b",
   "metadata": {},
   "source": [
    "# Assignment-1"
   ]
  },
  {
   "cell_type": "markdown",
   "id": "f7e68982",
   "metadata": {},
   "source": [
    "## Name: Swaroop Srisailam\n",
    "### Roll No.:22239"
   ]
  },
  {
   "cell_type": "markdown",
   "id": "5e271d36",
   "metadata": {},
   "source": [
    "### Importing the dependencies"
   ]
  },
  {
   "cell_type": "code",
   "execution_count": 3,
   "id": "e054d2d9",
   "metadata": {},
   "outputs": [],
   "source": [
    "import matplotlib.pyplot as plt\n",
    "import numpy as np\n",
    "from sympy import symbols, diff\n",
    "from sympy.matrices import Matrix, Inverse, Transpose\n",
    "from mpl_toolkits import mplot3d\n",
    "plt.style.use('seaborn')"
   ]
  },
  {
   "cell_type": "markdown",
   "id": "31874315",
   "metadata": {},
   "source": [
    "## Newton Raphson Method"
   ]
  },
  {
   "cell_type": "code",
   "execution_count": 2,
   "id": "8a18e2f1",
   "metadata": {},
   "outputs": [
    {
     "data": {
      "text/latex": [
       "$\\displaystyle \\left[\\begin{matrix}0\\\\0\\end{matrix}\\right]$"
      ],
      "text/plain": [
       "Matrix([\n",
       "[0],\n",
       "[0]])"
      ]
     },
     "execution_count": 2,
     "metadata": {},
     "output_type": "execute_result"
    }
   ],
   "source": [
    "def grad_f():\n",
    "    x, y = symbols('x y', real = True)\n",
    "    f= x**3+y**2+8*x*y\n",
    "    grad_f_trans = [diff(f,x),diff(f,y)]\n",
    "    return grad_f_trans\n",
    "def jacobi():        #takes grad_f_trans as an input\n",
    "    gf = grad_f()\n",
    "    x, y = symbols('x y', real = True)\n",
    "    j_matrix = [[diff(gf[0],x), diff(gf[0],y)],[diff(gf[1],x), diff(gf[1],y)]]\n",
    "    return j_matrix\n",
    "\n",
    "\n",
    "\n",
    "def N_R_Method():    #takes j_matrix as an input\n",
    "    x0 = Matrix([0,0])\n",
    "    gf_trans = grad_f()\n",
    "    jacobi_M = jacobi()\n",
    "    x, y = symbols('x y', real = True)\n",
    "    jacobi_M = [[jacobi_M[0][0].subs(x, x0[0]).subs(y, x0[1]), jacobi_M[0][1].subs(x,x0[0]).subs(y,x0[1])],[jacobi_M[1][0].subs(x,x0[0]).subs(y,x0[1]),jacobi_M[1][1].subs(x,x0[0]).subs(y,x0[1])]]\n",
    "    jacobi_M = Matrix(jacobi_M)\n",
    "    jacobi_M_inv = Inverse(jacobi_M)\n",
    "    g_x0 = [gf_trans[0].subs(x,x0[0]).subs(y,x0[1]), gf_trans[1].subs(x,x0[0]).subs(y,x0[1])]\n",
    "    g_x0 = Matrix(g_x0)\n",
    "    for i in range(0,50):\n",
    "        x1 = x0 - jacobi_M_inv * g_x0\n",
    "        x0 = x1\n",
    "    return x0\n",
    "N_R_Method()"
   ]
  },
  {
   "cell_type": "code",
   "execution_count": 3,
   "id": "733a007d",
   "metadata": {},
   "outputs": [
    {
     "data": {
      "image/png": "[encoded data removed]",
      "text/plain": [
       "<Figure size 432x288 with 1 Axes>"
      ]
     },
     "metadata": {
      "needs_background": "light"
     },
     "output_type": "display_data"
    }
   ],
   "source": [
    "def f(x,y):\n",
    "    return x**3+y**2+8*x*y\n",
    "x = np.linspace(-5,5,100)\n",
    "y = np.linspace(-5,5,100)\n",
    "plt.plot(x,f(x,y))\n",
    "plt.scatter(0,f(0,0),color='r')\n",
    "plt.title('$ x^3 +y^2+8xy$')\n",
    "plt.show()"
   ]
  },
  {
   "cell_type": "markdown",
   "id": "bb1b7a44",
   "metadata": {},
   "source": [
    "### The Red Point is the critical point of the equation $ x^3 +y^3+3xy$"
   ]
  },
  {
   "cell_type": "markdown",
   "id": "90105d10",
   "metadata": {},
   "source": [
    "## Gradient Descent Algorithm"
   ]
  },
  {
   "cell_type": "code",
   "execution_count": 4,
   "id": "600ac4c6",
   "metadata": {},
   "outputs": [
    {
     "data": {
      "image/png": "[encoded data removed]",
      "text/plain": [
       "<Figure size 432x288 with 1 Axes>"
      ]
     },
     "metadata": {
      "needs_background": "light"
     },
     "output_type": "display_data"
    }
   ],
   "source": [
    "def obj(x): #Object function\n",
    "    return x**2+x\n",
    "\n",
    "x = np.linspace(-5,5,100)\n",
    "plt.plot(x,obj(x))\n",
    "plt.xlim(-10, 10)\n",
    "plt.show()"
   ]
  },
  {
   "cell_type": "code",
   "execution_count": 5,
   "id": "5f380de4",
   "metadata": {},
   "outputs": [],
   "source": [
    "def dx(x): #derivative of the function\n",
    "    return x*2.0+1.0\n"
   ]
  },
  {
   "cell_type": "code",
   "execution_count": 7,
   "id": "f47f9a40",
   "metadata": {},
   "outputs": [
    {
     "name": "stdout",
     "output_type": "stream",
     "text": [
      " --->0 f([0.43015471]) = 0.61519\n",
      " --->1 f([0.24412377]) = 0.30372\n",
      " --->2 f([0.09529901]) = 0.10438\n",
      " --->3 f([-0.02376079]) = -0.02320\n",
      " --->4 f([-0.11900863]) = -0.10485\n",
      " --->5 f([-0.1952069]) = -0.15710\n",
      " --->6 f([-0.25616552]) = -0.19054\n",
      " --->7 f([-0.30493242]) = -0.21195\n",
      " --->8 f([-0.34394594]) = -0.22565\n",
      " --->9 f([-0.37515675]) = -0.23441\n",
      " --->10 f([-0.4001254]) = -0.24003\n",
      " --->11 f([-0.42010032]) = -0.24362\n",
      " --->12 f([-0.43608026]) = -0.24591\n",
      " --->13 f([-0.4488642]) = -0.24739\n",
      " --->14 f([-0.45909136]) = -0.24833\n",
      " --->15 f([-0.46727309]) = -0.24893\n",
      " --->16 f([-0.47381847]) = -0.24931\n",
      " --->17 f([-0.47905478]) = -0.24956\n",
      " --->18 f([-0.48324382]) = -0.24972\n",
      " --->19 f([-0.48659506]) = -0.24982\n",
      " --->20 f([-0.48927605]) = -0.24988\n",
      " --->21 f([-0.49142084]) = -0.24993\n",
      " --->22 f([-0.49313667]) = -0.24995\n",
      " --->23 f([-0.49450934]) = -0.24997\n",
      " --->24 f([-0.49560747]) = -0.24998\n",
      " --->25 f([-0.49648597]) = -0.24999\n",
      " --->26 f([-0.49718878]) = -0.24999\n",
      " --->27 f([-0.49775102]) = -0.24999\n",
      " --->28 f([-0.49820082]) = -0.25000\n",
      " --->29 f([-0.49856066]) = -0.25000\n"
     ]
    },
    {
     "data": {
      "image/png": "[encoded data removed]",
      "text/plain": [
       "<Figure size 432x288 with 1 Axes>"
      ]
     },
     "metadata": {
      "needs_background": "light"
     },
     "output_type": "display_data"
    }
   ],
   "source": [
    "def gradient_descent(objective, derivative, bounds, n_it, step_size):\n",
    "   \n",
    "    solutions, scores = list(), list()\n",
    "   \n",
    "    solution = bounds[:, 0] +np.random.rand(len(bounds)) * (bounds[:, 1] - bounds[:, 0])\n",
    "    \n",
    "    for i in range(n_it):   #running the gradient descent\n",
    "        gradient = dx(solution)\n",
    "        solution = solution - step_size * gradient\n",
    "        y = objective(solution)\n",
    "        solutions.append(solution)\n",
    "        scores.append(y)\n",
    "        print(' --->%d f(%s) = %.5f' % (i, solution, y)) #the progress\n",
    "    return [solutions, scores]\n",
    " \n",
    "\n",
    "bounds = np.asarray([[-1.0, 1.0]]) #range for input\n",
    "                                            \n",
    "it = 30 #total iterations\n",
    "\n",
    "lr = 0.1  #Learning rate\n",
    "solutions, scores = gradient_descent(obj, dx, bounds, it, lr)\n",
    "\n",
    "x = np.arange(bounds[0,0], bounds[0,1]+0.1, 0.1)\n",
    "\n",
    "y = obj(x)\n",
    "\n",
    "plt.plot(x, y)  #plotting the eqation\n",
    "plt.plot(solutions, scores, '.-', color='red') #plotting the path \n",
    "plt.xlim(-2,2)\n",
    "plt.show() #displaying the plot"
   ]
  },
  {
   "cell_type": "markdown",
   "id": "718e8f61",
   "metadata": {},
   "source": [
    "## Golden Section "
   ]
  },
  {
   "cell_type": "code",
   "execution_count": 6,
   "id": "547ea077",
   "metadata": {},
   "outputs": [
    {
     "name": "stdout",
     "output_type": "stream",
     "text": [
      "Enter The number Of Iterations:50\n",
      "enter xl value :-1\n",
      "enter xr value :1\n",
      "enter error value :.09\n",
      "iterations =  49\n",
      "xl =  -0.236\n",
      "xr =  0.236\n",
      "iterations =  48\n",
      "xl =  -0.05569599999999997\n",
      "xr =  0.05569599999999997\n",
      "iterations =  47\n",
      "xl =  -0.013144255999999993\n",
      "xr =  0.013144255999999993\n",
      "After Golden Section Method:\n",
      "\n",
      "The Extreme Point = \n",
      " 0.013144255999999993\n",
      "f(x) at Extreme Point = \n",
      " 0.00017277146579353583\n"
     ]
    }
   ],
   "source": [
    "def f(x):  #Objective Function\n",
    "    return x**2\n",
    "        \n",
    "it = int(input(\"Enter The number Of Iterations:\"))\n",
    "xl = int(input(\"enter xl value :\"))\n",
    "xr = int(input(\"enter xr value :\"))\n",
    "err = float(input(\"enter error value :\"))\n",
    "\n",
    "while(it):   #n iterations it loops\n",
    "    if (err < abs(xl-xr)): #if error is less than the differemce\n",
    "        x1 = xr - 0.618 * (xr-xl)\n",
    "        x2 = xl + 0.618 * (xr-xl)\n",
    "    \n",
    "        f1 = float(f(x1))\n",
    "        f2 = float(f(x2))\n",
    "    \n",
    "        if f1>f2:\n",
    "            xr = x2\n",
    "        elif f1<f2:\n",
    "            xl = x1\n",
    "        else:\n",
    "            xl = x1\n",
    "            xr = x2\n",
    "        \n",
    "        it = it-1\n",
    "        print(\"iterations = \",it)\n",
    "        print(\"xl = \",xl)\n",
    "        print(\"xr = \",xr)\n",
    "    else:\n",
    "        break\n",
    "    \n",
    "print(\"After Golden Section Method:\\n\")\n",
    "fle = f(x1)\n",
    "fri = f(x2)\n",
    "\n",
    "if fle>fri:\n",
    "    print(\"The Extreme Point = \\n\",x1)\n",
    "    print(\"f(x) at Extreme Point = \\n\",fl)\n",
    "    \n",
    "else:\n",
    "    print(\"The Extreme Point = \\n\",x2)\n",
    "    print(\"f(x) at Extreme Point = \\n\",fr)"
   ]
  }
 ],
 "metadata": {
  "kernelspec": {
   "display_name": "Python 3 (ipykernel)",
   "language": "python",
   "name": "python3"
  },
  "language_info": {
   "codemirror_mode": {
    "name": "ipython",
    "version": 3
   },
   "file_extension": ".py",
   "mimetype": "text/x-python",
   "name": "python",
   "nbconvert_exporter": "python",
   "pygments_lexer": "ipython3",
   "version": "3.9.13"
  }
 },
 "nbformat": 4,
 "nbformat_minor": 5
}
