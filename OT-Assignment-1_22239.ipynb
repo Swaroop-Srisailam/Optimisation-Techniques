{
 "cells": [
  {
   "cell_type": "markdown",
   "id": "821fc60b",
   "metadata": {},
   "source": [
    "# Assignment-1"
   ]
  },
  {
   "cell_type": "markdown",
   "id": "f7e68982",
   "metadata": {},
   "source": [
    "## Name: Swaroop Srisailam\n",
    "### Roll No.:22239"
   ]
  },
  {
   "cell_type": "markdown",
   "id": "5e271d36",
   "metadata": {},
   "source": [
    "### Importing the dependencies"
   ]
  },
  {
   "cell_type": "code",
   "execution_count": 2,
   "id": "e054d2d9",
   "metadata": {},
   "outputs": [],
   "source": [
    "import matplotlib.pyplot as plt\n",
    "import numpy as np\n",
    "from sympy import symbols, diff\n",
    "from sympy.matrices import Matrix, Inverse, Transpose\n",
    "from mpl_toolkits import mplot3d\n",
    "plt.style.use('seaborn')"
   ]
  },
  {
   "cell_type": "markdown",
   "id": "31874315",
   "metadata": {},
   "source": [
    "## Newton Raphson Method"
   ]
  },
  {
   "cell_type": "code",
   "execution_count": 28,
   "id": "8a18e2f1",
   "metadata": {},
   "outputs": [
    {
     "data": {
      "text/latex": [
       "$\\displaystyle \\left[\\begin{matrix}0\\\\0\\end{matrix}\\right]$"
      ],
      "text/plain": [
       "Matrix([\n",
       "[0],\n",
       "[0]])"
      ]
     },
     "execution_count": 28,
     "metadata": {},
     "output_type": "execute_result"
    }
   ],
   "source": [
    "def grad_f():\n",
    "    \"\"\"\n",
    "    Description:Function to calculate gradient \n",
    "    \"\"\"\n",
    "    x, y = symbols('x y', real = True)\n",
    "    f= x**3+y**2-3*x*y\n",
    "    Grad_f= [diff(f,x),diff(f,y)]\n",
    "    return Grad_f\n",
    "def jacobi():        #takes grad_f as an input\n",
    "    \"\"\"\n",
    "     Description:Function to calculate jacobi matrix\n",
    "    \"\"\"\n",
    "    gf = grad_f()\n",
    "    x, y = symbols('x y', real = True)\n",
    "    j_matrix = [[diff(gf[0],x), diff(gf[0],y)],[diff(gf[1],x), diff(gf[1],y)]]\n",
    "    return j_matrix\n",
    "\n",
    "\n",
    "\n",
    "def N_R_Method():    #takes j_matrix as an input\n",
    "    \"\"\"\n",
    "     Description:Function to calculate the critical points using Newton Raphson Method\n",
    "     Author: Swaroop\n",
    "    \"\"\"\n",
    "    x0 = Matrix([0,0])\n",
    "    gf_trans = grad_f()\n",
    "    jacobi_M = jacobi()\n",
    "    x, y = symbols('x y', real = True)\n",
    "    jacobi_M = [[jacobi_M[0][0].subs(x, x0[0]).subs(y, x0[1]), jacobi_M[0][1].subs(x,x0[0]).subs(y,x0[1])],[jacobi_M[1][0].subs(x,x0[0]).subs(y,x0[1]),jacobi_M[1][1].subs(x,x0[0]).subs(y,x0[1])]]\n",
    "    jacobi_M = Matrix(jacobi_M)\n",
    "    jacobi_M_inv = Inverse(jacobi_M)\n",
    "\n",
    "    for i in range(0,50):\n",
    "        g_x0 = [gf_trans[0].subs(x,x0[0]).subs(y,x0[1]), gf_trans[1].subs(x,x0[0]).subs(y,x0[1])]\n",
    "        g_x0 = Matrix(g_x0)\n",
    "        x1 = x0 - jacobi_M_inv * g_x0\n",
    "        x0 = x1\n",
    "    return x0\n",
    "\n",
    "N_R_Method()"
   ]
  },
  {
   "cell_type": "code",
   "execution_count": 22,
   "id": "733a007d",
   "metadata": {},
   "outputs": [
    {
     "data": {
      "image/png": "[encoded data removed]",
      "text/plain": [
       "<Figure size 432x288 with 1 Axes>"
      ]
     },
     "metadata": {
      "needs_background": "light"
     },
     "output_type": "display_data"
    }
   ],
   "source": [
    "def f(x,y):\n",
    "    return  x**3+y**2-3*x*y\n",
    "x = np.linspace(-5,5,100)\n",
    "y = np.linspace(-5,5,100)\n",
    "plt.plot(x,f(x,y))\n",
    "plt.scatter(0,f(0,0),color='r')\n",
    "plt.title('$ x^3 +y^2-3xy$')\n",
    "plt.show()"
   ]
  },
  {
   "cell_type": "markdown",
   "id": "bb1b7a44",
   "metadata": {},
   "source": [
    "### The Red Point is the saddle point of the equation $ x^3 +y^3+3xy$"
   ]
  },
  {
   "cell_type": "markdown",
   "id": "90105d10",
   "metadata": {},
   "source": [
    "## Gradient Descent Algorithm"
   ]
  },
  {
   "cell_type": "code",
   "execution_count": 18,
   "id": "600ac4c6",
   "metadata": {},
   "outputs": [
    {
     "data": {
      "image/png": "[encoded data removed]",
      "text/plain": [
       "<Figure size 432x288 with 1 Axes>"
      ]
     },
     "metadata": {
      "needs_background": "light"
     },
     "output_type": "display_data"
    }
   ],
   "source": [
    "def obj(x): #Object function\n",
    "    return x**2+x\n",
    "\n",
    "x = np.linspace(-5,5,100)\n",
    "plt.plot(x,obj(x))\n",
    "plt.xlim(-10, 10)\n",
    "plt.show()"
   ]
  },
  {
   "cell_type": "code",
   "execution_count": 19,
   "id": "5f380de4",
   "metadata": {},
   "outputs": [],
   "source": [
    "def dx(x): #derivative of the function\n",
    "    return x*2.0+1.0\n"
   ]
  },
  {
   "cell_type": "code",
   "execution_count": 20,
   "id": "f47f9a40",
   "metadata": {},
   "outputs": [
    {
     "name": "stdout",
     "output_type": "stream",
     "text": [
      " --->0 f([0.19604494]) = 0.23448\n",
      " --->1 f([0.05683596]) = 0.06007\n",
      " --->2 f([-0.05453124]) = -0.05156\n",
      " --->3 f([-0.14362499]) = -0.12300\n",
      " --->4 f([-0.21489999]) = -0.16872\n",
      " --->5 f([-0.27191999]) = -0.19798\n",
      " --->6 f([-0.31753599]) = -0.21671\n",
      " --->7 f([-0.3540288]) = -0.22869\n",
      " --->8 f([-0.38322304]) = -0.23636\n",
      " --->9 f([-0.40657843]) = -0.24127\n",
      " --->10 f([-0.42526274]) = -0.24441\n",
      " --->11 f([-0.44021019]) = -0.24643\n",
      " --->12 f([-0.45216816]) = -0.24771\n",
      " --->13 f([-0.46173452]) = -0.24854\n",
      " --->14 f([-0.46938762]) = -0.24906\n",
      " --->15 f([-0.4755101]) = -0.24940\n",
      " --->16 f([-0.48040808]) = -0.24962\n",
      " --->17 f([-0.48432646]) = -0.24975\n",
      " --->18 f([-0.48746117]) = -0.24984\n",
      " --->19 f([-0.48996894]) = -0.24990\n",
      " --->20 f([-0.49197515]) = -0.24994\n",
      " --->21 f([-0.49358012]) = -0.24996\n",
      " --->22 f([-0.49486409]) = -0.24997\n",
      " --->23 f([-0.49589128]) = -0.24998\n",
      " --->24 f([-0.49671302]) = -0.24999\n",
      " --->25 f([-0.49737042]) = -0.24999\n",
      " --->26 f([-0.49789633]) = -0.25000\n",
      " --->27 f([-0.49831707]) = -0.25000\n",
      " --->28 f([-0.49865365]) = -0.25000\n",
      " --->29 f([-0.49892292]) = -0.25000\n"
     ]
    },
    {
     "data": {
      "image/png": "[encoded data removed]",
      "text/plain": [
       "<Figure size 432x288 with 1 Axes>"
      ]
     },
     "metadata": {
      "needs_background": "light"
     },
     "output_type": "display_data"
    }
   ],
   "source": [
    "def gradient_descent(objective, derivative, bounds, n_it, step_size):\n",
    "    \"\"\"\n",
    "        Description:Function to Calculate the critical point using Gradient Descent.\n",
    "        Function plots every step till it reaches the cp.\n",
    "        Parameters:objective, (Objective function)\n",
    "                   derivative,(Derivative of objective)\n",
    "                   bounds, (Float) \n",
    "                   n_it, (int[No. of iterations])\n",
    "                   step_size.(Float[Learning rate])\n",
    "        Author:Swaroop Srisailam\n",
    "    \"\"\"\n",
    "   \n",
    "    solutions, scores = list(), list()\n",
    "   \n",
    "    solution = bounds[:, 0] +np.random.rand(len(bounds)) * (bounds[:, 1] - bounds[:, 0])\n",
    "    \n",
    "    for i in range(n_it):   #running the gradient descent\n",
    "        gradient = dx(solution)\n",
    "        solution = solution - step_size * gradient\n",
    "        y = objective(solution)\n",
    "        solutions.append(solution)\n",
    "        scores.append(y)\n",
    "        print(' --->%d f(%s) = %.5f' % (i, solution, y)) #the progress\n",
    "    return [solutions, scores]\n",
    " \n",
    "\n",
    "bounds = np.asarray([[-1.0, 1.0]]) #range for input\n",
    "                                            \n",
    "it = 30 #total iterations\n",
    "\n",
    "lr = 0.1  #Learning rate\n",
    "solutions, scores = gradient_descent(obj, dx, bounds, it, lr)\n",
    "\n",
    "x = np.arange(bounds[0,0], bounds[0,1]+0.1, 0.1)\n",
    "\n",
    "y = obj(x)\n",
    "\n",
    "plt.plot(x, y)  #plotting the eqation\n",
    "plt.plot(solutions, scores, '.-', color='red') #plotting the path \n",
    "plt.xlim(-2,2)\n",
    "plt.show() #displaying the plot"
   ]
  },
  {
   "cell_type": "markdown",
   "id": "718e8f61",
   "metadata": {},
   "source": [
    "## Golden Section "
   ]
  },
  {
   "cell_type": "code",
   "execution_count": 15,
   "id": "547ea077",
   "metadata": {},
   "outputs": [],
   "source": [
    "def f(x):  #Objective Function\n",
    "    return x**2\n",
    "\n",
    "def GS():\n",
    "     \"\"\"\n",
    "        Description:Function to Calculate the critical point using golden section method.\n",
    "        Author:Swaroop Srisailam\n",
    "    \"\"\"\n",
    "    it = int(input(\"Enter The number Of Iterations:\"))\n",
    "    xl = int(input(\"enter xl value :\"))\n",
    "    xr = int(input(\"enter xr value :\"))\n",
    "    err = float(input(\"enter error value :\"))\n",
    "\n",
    "    while(it):   #n iterations it loops\n",
    "        if (err < abs(xl-xr)): #if error is less than the differemce\n",
    "            x1 = xr - 0.618 * (xr-xl)\n",
    "            x2 = xl + 0.618 * (xr-xl)\n",
    "\n",
    "            f1 = float(f(x1))\n",
    "            f2 = float(f(x2))\n",
    "\n",
    "            if f1>f2:\n",
    "                xr = x2\n",
    "            elif f1<f2:\n",
    "                xl = x1\n",
    "            else:\n",
    "                xl = x1\n",
    "                xr = x2\n",
    "\n",
    "            it = it-1\n",
    "            print(\"iterations = \",it)\n",
    "            print(\"xl = \",xl)\n",
    "            print(\"xr = \",xr)\n",
    "        else:\n",
    "            break\n",
    "\n",
    "    print(\"After Golden Section Method:\\n\")\n",
    "    fle = f(x1)\n",
    "    fri = f(x2)\n",
    "\n",
    "    if fle>fri:\n",
    "        print(\"The Extreme Point = \\n\",x1)\n",
    "        print(\"f(x) at Extreme Point = \\n\",fle)\n",
    "\n",
    "    else:\n",
    "        print(\"The Extreme Point = \\n\",x2)\n",
    "        print(\"f(x) at Extreme Point = \\n\",fri)\n",
    "        "
   ]
  },
  {
   "cell_type": "code",
   "execution_count": 16,
   "id": "cae1fc99",
   "metadata": {},
   "outputs": [
    {
     "name": "stdout",
     "output_type": "stream",
     "text": [
      "Enter The number Of Iterations:23\n",
      "enter xl value :-1\n",
      "enter xr value :1\n",
      "enter error value :.09\n",
      "iterations =  22\n",
      "xl =  -0.236\n",
      "xr =  0.236\n",
      "iterations =  21\n",
      "xl =  -0.05569599999999997\n",
      "xr =  0.05569599999999997\n",
      "iterations =  20\n",
      "xl =  -0.013144255999999993\n",
      "xr =  0.013144255999999993\n",
      "After Golden Section Method:\n",
      "\n",
      "The Extreme Point = \n",
      " 0.013144255999999993\n",
      "f(x) at Extreme Point = \n",
      " 0.00017277146579353583\n"
     ]
    }
   ],
   "source": [
    "GS()#calling the golden Section function"
   ]
  }
 ],
 "metadata": {
  "kernelspec": {
   "display_name": "Python 3 (ipykernel)",
   "language": "python",
   "name": "python3"
  },
  "language_info": {
   "codemirror_mode": {
    "name": "ipython",
    "version": 3
   },
   "file_extension": ".py",
   "mimetype": "text/x-python",
   "name": "python",
   "nbconvert_exporter": "python",
   "pygments_lexer": "ipython3",
   "version": "3.9.13"
  }
 },
 "nbformat": 4,
 "nbformat_minor": 5
}
